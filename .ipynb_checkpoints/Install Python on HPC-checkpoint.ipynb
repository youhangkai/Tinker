{
 "cells": [
  {
   "cell_type": "markdown",
   "id": "369c0387",
   "metadata": {},
   "source": [
    "# This is a document for installing python on HPC in UW-Madison"
   ]
  },
  {
   "cell_type": "markdown",
   "id": "5c643499",
   "metadata": {},
   "source": [
    "1. First of all, sign in HPC via SSH."
   ]
  },
  {
   "cell_type": "markdown",
   "id": "1de5fd7a",
   "metadata": {},
   "source": [
    "2. And then install the miniconda for the lastest version with following code:\n",
    "\n",
    "wget https://repo.anaconda.com/miniconda/Miniconda3-latest-Linux-x86_64.sh"
   ]
  },
  {
   "cell_type": "markdown",
   "id": "094c6115",
   "metadata": {},
   "source": [
    "3. Run the Miniconda installer:\n",
    "\n",
    "Make the installer executable and run it with following code:\n",
    "\n",
    "chmod +x Miniconda3-latest-Linux-x86_64.sh\n",
    "\n",
    "./Miniconda3-latest-Linux-x86_64.sh\n",
    "\n",
    "**After you tpye the code, followed the instruction like pressing enter or typing yes.**"
   ]
  },
  {
   "cell_type": "markdown",
   "id": "01555efc",
   "metadata": {},
   "source": [
    "4. Add Miniconda to your PATH:\n",
    "\n",
    "Edit the appropriate shell configuration file for your system (usually ~/.bashrc or ~/.bash_profile) and add the following line at the end of the file:\n",
    "\n",
    "export PATH=$HOME/miniconda3/bin:$PATH"
   ]
  },
  {
   "cell_type": "markdown",
   "id": "af27612f",
   "metadata": {},
   "source": [
    "5. Close and reopen the terminal or reload your shell configuration.\n",
    "\n",
    "This will ensure that the new Miniconda installation is in your PATH."
   ]
  },
  {
   "cell_type": "markdown",
   "id": "db4116ce",
   "metadata": {},
   "source": [
    "6. Create a Conda environment:\n",
    "\n",
    "Create a new Conda environment with the desired Python version:\n",
    "\n",
    "conda create -n your_env python=3.8\n",
    "\n",
    "I installed python 3.8 here."
   ]
  },
  {
   "cell_type": "markdown",
   "id": "23fca1b4",
   "metadata": {},
   "source": [
    "7. Run the conda init command for your shell:\n",
    "    \n",
    "conda init bash\n",
    "\n",
    "And then close and reopen the terminal."
   ]
  },
  {
   "cell_type": "markdown",
   "id": "411a4e39",
   "metadata": {},
   "source": [
    "8. Activate the Conda environment:\n",
    "    \n",
    "Now you should be able to activate your Conda environment with the following command:\n",
    "    \n",
    "conda activate your_env"
   ]
  }
 ],
 "metadata": {
  "kernelspec": {
   "display_name": "Python 3 (ipykernel)",
   "language": "python",
   "name": "python3"
  },
  "language_info": {
   "codemirror_mode": {
    "name": "ipython",
    "version": 3
   },
   "file_extension": ".py",
   "mimetype": "text/x-python",
   "name": "python",
   "nbconvert_exporter": "python",
   "pygments_lexer": "ipython3",
   "version": "3.10.9"
  }
 },
 "nbformat": 4,
 "nbformat_minor": 5
}
