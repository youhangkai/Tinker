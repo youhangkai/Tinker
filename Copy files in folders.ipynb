{
 "cells": [
  {
   "cell_type": "markdown",
   "id": "bd8a9969",
   "metadata": {},
   "source": [
    "# Purpose\n",
    "This Python script is designed to automate the process of organizing .tif files located in various yearly subfolders within a specific directory. It searches for files with specified filename patterns and then copies them into new corresponding yearly folders in a different directory. This script is particularly useful for managing large datasets of .tif files sorted by year.\n",
    "\n",
    "# How It Works\n",
    "\n",
    "## The script operates by performing the following steps:\n",
    "\n",
    "### 1. Define Source and Destination Paths:\n",
    "It specifies the source directory where the .tif files are currently stored and the destination directory where the organized files will be copied.\n",
    "### 2. Specify Filename Patterns:\n",
    "A list of filename fragments is defined, which the script will look for in the source directory.\n",
    "### 3. Folder Traversal and File Copying:\n",
    "The script traverses each subfolder in the source directory (each representing a different year), searches for files matching the specified patterns, and copies these files to the corresponding new yearly folder in the destination directory."
   ]
  },
  {
   "cell_type": "code",
   "execution_count": null,
   "id": "88263ef8",
   "metadata": {},
   "outputs": [],
   "source": [
    "import os\n",
    "import shutil\n",
    "\n",
    "# Paths to source and destination folders\n",
    "source_path = \"G:\\\\Public\\\\Glance30\"\n",
    "destination_path = \"G:\\\\Hangkai\\\\CA_fire_edge\\\\GLANCE30_data\"\n",
    "\n",
    "# The part of the filename to look for\n",
    "filenames_to_look_for = [\n",
    "    \"h42v44\", \"h41v42\", \"h41v43\", \"h41v44\", \"h41v45\", \"h40v40\", \"h40v41\", \"h40v42\",\n",
    "    \"h40v43\", \"h40v44\", \"h40v45\", \"h39v38\", \"h39v39\", \"h39v40\", \"h39v41\", \"h39v42\",\n",
    "    \"h39v43\", \"h39v44\", \"h39v45\", \"h38v37\", \"h38v38\", \"h38v39\", \"h38v40\", \"h38v41\",\n",
    "    \"h38v42\", \"h38v43\", \"h38v44\", \"h37v37\", \"h37v38\", \"h37v39\", \"h37v40\", \"h37v41\", \"h37v42\"\n",
    "]\n",
    "\n",
    "# Traversing the source folder\n",
    "for year_folder in os.listdir(source_path):\n",
    "    year_folder_path = os.path.join(source_path, year_folder)\n",
    "    \n",
    "    if os.path.isdir(year_folder_path):\n",
    "        # Create a new folder for each year in the destination path\n",
    "        dest_year_folder = os.path.join(destination_path, year_folder)\n",
    "        if not os.path.exists(dest_year_folder):\n",
    "            os.makedirs(dest_year_folder)\n",
    "\n",
    "        # Iterate through all files in a folder\n",
    "        for file in os.listdir(year_folder_path):\n",
    "            if any(name in file for name in filenames_to_look_for):\n",
    "                file_path = os.path.join(year_folder_path, file)\n",
    "                shutil.copy(file_path, dest_year_folder)\n",
    "\n",
    "print(\"File copying complete!\")\n"
   ]
  }
 ],
 "metadata": {
  "kernelspec": {
   "display_name": "Python 3 (ipykernel)",
   "language": "python",
   "name": "python3"
  },
  "language_info": {
   "codemirror_mode": {
    "name": "ipython",
    "version": 3
   },
   "file_extension": ".py",
   "mimetype": "text/x-python",
   "name": "python",
   "nbconvert_exporter": "python",
   "pygments_lexer": "ipython3",
   "version": "3.9.16"
  }
 },
 "nbformat": 4,
 "nbformat_minor": 5
}
